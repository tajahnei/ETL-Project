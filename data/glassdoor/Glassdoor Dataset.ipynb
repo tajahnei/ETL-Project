{
 "cells": [
  {
   "cell_type": "code",
   "execution_count": 24,
   "metadata": {},
   "outputs": [],
   "source": [
    "import pandas as pd\n",
    "import os"
   ]
  },
  {
   "cell_type": "code",
   "execution_count": 25,
   "metadata": {},
   "outputs": [],
   "source": [
    "path = os.getcwd()\n",
    "files = os.listdir(path)"
   ]
  },
  {
   "cell_type": "code",
   "execution_count": 26,
   "metadata": {},
   "outputs": [],
   "source": [
    "files_xlsx = [f for f in files if f[-5:] == '.xlsx']"
   ]
  },
  {
   "cell_type": "code",
   "execution_count": 27,
   "metadata": {},
   "outputs": [],
   "source": [
    "glassdoor_df = pd.DataFrame()"
   ]
  },
  {
   "cell_type": "code",
   "execution_count": 28,
   "metadata": {},
   "outputs": [],
   "source": [
    "for f in files_xlsx:\n",
    "    data = pd.read_excel(f, sheet_name='Sheet1')\n",
    "    glassdoor_df = glassdoor_df.append(data)"
   ]
  },
  {
   "cell_type": "code",
   "execution_count": 29,
   "metadata": {},
   "outputs": [
    {
     "data": {
      "text/html": [
       "<div>\n",
       "<style scoped>\n",
       "    .dataframe tbody tr th:only-of-type {\n",
       "        vertical-align: middle;\n",
       "    }\n",
       "\n",
       "    .dataframe tbody tr th {\n",
       "        vertical-align: top;\n",
       "    }\n",
       "\n",
       "    .dataframe thead th {\n",
       "        text-align: right;\n",
       "    }\n",
       "</style>\n",
       "<table border=\"1\" class=\"dataframe\">\n",
       "  <thead>\n",
       "    <tr style=\"text-align: right;\">\n",
       "      <th></th>\n",
       "      <th>Metro</th>\n",
       "      <th>Dimension Type</th>\n",
       "      <th>Month</th>\n",
       "      <th>Dimension</th>\n",
       "      <th>Measure</th>\n",
       "      <th>Value</th>\n",
       "      <th>YoY</th>\n",
       "    </tr>\n",
       "  </thead>\n",
       "  <tbody>\n",
       "    <tr>\n",
       "      <th>0</th>\n",
       "      <td>National</td>\n",
       "      <td>Quick Facts</td>\n",
       "      <td>2017-09</td>\n",
       "      <td>U.S. Median Pay</td>\n",
       "      <td>U.S. Median Pay</td>\n",
       "      <td>$ 51,402</td>\n",
       "      <td>1.6%</td>\n",
       "    </tr>\n",
       "    <tr>\n",
       "      <th>1</th>\n",
       "      <td>Atlanta</td>\n",
       "      <td>Quick Facts</td>\n",
       "      <td>2017-09</td>\n",
       "      <td>Metro Median Pay</td>\n",
       "      <td>Metro Median Pay</td>\n",
       "      <td>$ 52,948</td>\n",
       "      <td>1.5%</td>\n",
       "    </tr>\n",
       "  </tbody>\n",
       "</table>\n",
       "</div>"
      ],
      "text/plain": [
       "      Metro Dimension Type    Month         Dimension           Measure  \\\n",
       "0  National    Quick Facts  2017-09   U.S. Median Pay   U.S. Median Pay   \n",
       "1   Atlanta    Quick Facts  2017-09  Metro Median Pay  Metro Median Pay   \n",
       "\n",
       "      Value   YoY  \n",
       "0  $ 51,402  1.6%  \n",
       "1  $ 52,948  1.5%  "
      ]
     },
     "execution_count": 29,
     "metadata": {},
     "output_type": "execute_result"
    }
   ],
   "source": [
    "glassdoor_df.head(2)"
   ]
  },
  {
   "cell_type": "code",
   "execution_count": 30,
   "metadata": {},
   "outputs": [],
   "source": [
    "df = pd.read_excel(files_xlsx[-1:][0], sheet_name=0)"
   ]
  },
  {
   "cell_type": "code",
   "execution_count": 31,
   "metadata": {
    "scrolled": true
   },
   "outputs": [
    {
     "data": {
      "text/plain": [
       "Metro             12617\n",
       "Dimension Type    12617\n",
       "Month             12617\n",
       "Dimension         12617\n",
       "Measure           12617\n",
       "Value             12617\n",
       "YoY                   0\n",
       "dtype: int64"
      ]
     },
     "execution_count": 31,
     "metadata": {},
     "output_type": "execute_result"
    }
   ],
   "source": [
    "glassdoor_df[(glassdoor_df['Dimension Type']=='Industry') & (glassdoor_df['Measure']=='Median Base Pay')].count()"
   ]
  },
  {
   "cell_type": "code",
   "execution_count": 32,
   "metadata": {},
   "outputs": [
    {
     "data": {
      "text/plain": [
       "Atlanta          8116\n",
       "Houston          7841\n",
       "Seattle          7841\n",
       "Boston           7841\n",
       "Chicago          7841\n",
       "Philadelphia     7841\n",
       "San Francisco    7837\n",
       "Los Angeles      7837\n",
       "Washington DC    7837\n",
       "New York City    7837\n",
       "National         7124\n",
       "U.S.              764\n",
       "Los-Angeles         4\n",
       "San-Francisco       4\n",
       "Washington-DC       4\n",
       "New-York-City       4\n",
       "Name: Metro, dtype: int64"
      ]
     },
     "execution_count": 32,
     "metadata": {},
     "output_type": "execute_result"
    }
   ],
   "source": [
    "glassdoor_df['Metro'].value_counts()"
   ]
  },
  {
   "cell_type": "code",
   "execution_count": null,
   "metadata": {},
   "outputs": [],
   "source": []
  }
 ],
 "metadata": {
  "kernelspec": {
   "display_name": "Python 3",
   "language": "python",
   "name": "python3"
  },
  "language_info": {
   "codemirror_mode": {
    "name": "ipython",
    "version": 3
   },
   "file_extension": ".py",
   "mimetype": "text/x-python",
   "name": "python",
   "nbconvert_exporter": "python",
   "pygments_lexer": "ipython3",
   "version": "3.7.6"
  }
 },
 "nbformat": 4,
 "nbformat_minor": 2
}
