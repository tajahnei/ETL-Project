{
 "cells": [
  {
   "cell_type": "code",
   "execution_count": 1,
   "metadata": {},
   "outputs": [],
   "source": [
    "import os\n",
    "import pandas as pd"
   ]
  },
  {
   "cell_type": "code",
   "execution_count": 10,
   "metadata": {},
   "outputs": [
    {
     "name": "stdout",
     "output_type": "stream",
     "text": [
      "(38, 2)\n"
     ]
    },
    {
     "data": {
      "text/html": [
       "<div>\n",
       "<style scoped>\n",
       "    .dataframe tbody tr th:only-of-type {\n",
       "        vertical-align: middle;\n",
       "    }\n",
       "\n",
       "    .dataframe tbody tr th {\n",
       "        vertical-align: top;\n",
       "    }\n",
       "\n",
       "    .dataframe thead th {\n",
       "        text-align: right;\n",
       "    }\n",
       "</style>\n",
       "<table border=\"1\" class=\"dataframe\">\n",
       "  <thead>\n",
       "    <tr style=\"text-align: right;\">\n",
       "      <th></th>\n",
       "      <th>VARIABLE NAME</th>\n",
       "      <th>LABEL</th>\n",
       "    </tr>\n",
       "  </thead>\n",
       "  <tbody>\n",
       "    <tr>\n",
       "      <th>0</th>\n",
       "      <td>PCIP01</td>\n",
       "      <td>Agriculture, Agriculture Operations, and Relat...</td>\n",
       "    </tr>\n",
       "  </tbody>\n",
       "</table>\n",
       "</div>"
      ],
      "text/plain": [
       "  VARIABLE NAME                                              LABEL\n",
       "0        PCIP01  Agriculture, Agriculture Operations, and Relat..."
      ]
     },
     "execution_count": 10,
     "metadata": {},
     "output_type": "execute_result"
    }
   ],
   "source": [
    "# read the datadictionary on the third sheet from excel file\n",
    "datadict = pd.read_excel('CollegeScorecardDataDictionary.xlsx', sheet_name=3)\n",
    "\n",
    "# retrieve datadictionary information for degrees\n",
    "deg_cols = datadict[(datadict['dev-category']=='academics') &  (datadict['VARIABLE NAME'].str.contains('PCIP'))][['VARIABLE NAME', 'LABEL']]\n",
    "\n",
    "# reset index\n",
    "deg_cols.reset_index(drop=True, inplace=True)\n",
    "\n",
    "print(deg_cols.shape)\n",
    "deg_cols.head(1)"
   ]
  },
  {
   "cell_type": "code",
   "execution_count": 78,
   "metadata": {},
   "outputs": [
    {
     "name": "stdout",
     "output_type": "stream",
     "text": [
      "(6806, 39)\n"
     ]
    },
    {
     "data": {
      "text/html": [
       "<div>\n",
       "<style scoped>\n",
       "    .dataframe tbody tr th:only-of-type {\n",
       "        vertical-align: middle;\n",
       "    }\n",
       "\n",
       "    .dataframe tbody tr th {\n",
       "        vertical-align: top;\n",
       "    }\n",
       "\n",
       "    .dataframe thead th {\n",
       "        text-align: right;\n",
       "    }\n",
       "</style>\n",
       "<table border=\"1\" class=\"dataframe\">\n",
       "  <thead>\n",
       "    <tr style=\"text-align: right;\">\n",
       "      <th></th>\n",
       "      <th>college_id</th>\n",
       "      <th>Agriculture, Agriculture Operations, and Related Sciences</th>\n",
       "      <th>Natural Resources and Conservation</th>\n",
       "      <th>Architecture and Related Services</th>\n",
       "      <th>Area, Ethnic, Cultural, Gender, and Group Studies</th>\n",
       "      <th>Communication, Journalism, and Related Programs</th>\n",
       "      <th>Communications Technologies/Technicians and Support Services</th>\n",
       "      <th>Computer and Information Sciences and Support Services</th>\n",
       "      <th>Personal and Culinary Services</th>\n",
       "      <th>Education</th>\n",
       "      <th>...</th>\n",
       "      <th>Public Administration and Social Service Professions</th>\n",
       "      <th>Social Sciences</th>\n",
       "      <th>Construction Trades</th>\n",
       "      <th>Mechanic and Repair Technologies/Technicians</th>\n",
       "      <th>Precision Production</th>\n",
       "      <th>Transportation and Materials Moving</th>\n",
       "      <th>Visual and Performing Arts</th>\n",
       "      <th>Health Professions and Related Programs</th>\n",
       "      <th>Business, Management, Marketing, and Related Support Services</th>\n",
       "      <th>History</th>\n",
       "    </tr>\n",
       "  </thead>\n",
       "  <tbody>\n",
       "    <tr>\n",
       "      <th>0</th>\n",
       "      <td>100654</td>\n",
       "      <td>0.0394</td>\n",
       "      <td>0.0237</td>\n",
       "      <td>0.0039</td>\n",
       "      <td>0.0</td>\n",
       "      <td>0.0</td>\n",
       "      <td>0.0394</td>\n",
       "      <td>0.0592</td>\n",
       "      <td>0.0</td>\n",
       "      <td>0.071</td>\n",
       "      <td>...</td>\n",
       "      <td>0.0493</td>\n",
       "      <td>0.0355</td>\n",
       "      <td>0.0</td>\n",
       "      <td>0.0</td>\n",
       "      <td>0.0</td>\n",
       "      <td>0.0</td>\n",
       "      <td>0.0237</td>\n",
       "      <td>0.0</td>\n",
       "      <td>0.1578</td>\n",
       "      <td>0.0</td>\n",
       "    </tr>\n",
       "  </tbody>\n",
       "</table>\n",
       "<p>1 rows × 39 columns</p>\n",
       "</div>"
      ],
      "text/plain": [
       "   college_id  Agriculture, Agriculture Operations, and Related Sciences  \\\n",
       "0      100654                                             0.0394           \n",
       "\n",
       "   Natural Resources and Conservation  Architecture and Related Services  \\\n",
       "0                              0.0237                             0.0039   \n",
       "\n",
       "   Area, Ethnic, Cultural, Gender, and Group Studies  \\\n",
       "0                                                0.0   \n",
       "\n",
       "   Communication, Journalism, and Related Programs  \\\n",
       "0                                              0.0   \n",
       "\n",
       "   Communications Technologies/Technicians and Support Services  \\\n",
       "0                                             0.0394              \n",
       "\n",
       "   Computer and Information Sciences and Support Services  \\\n",
       "0                                             0.0592        \n",
       "\n",
       "   Personal and Culinary Services  Education  ...  \\\n",
       "0                             0.0      0.071  ...   \n",
       "\n",
       "   Public Administration and Social Service Professions  Social Sciences  \\\n",
       "0                                             0.0493              0.0355   \n",
       "\n",
       "   Construction Trades  Mechanic and Repair Technologies/Technicians  \\\n",
       "0                  0.0                                           0.0   \n",
       "\n",
       "   Precision Production  Transportation and Materials Moving  \\\n",
       "0                   0.0                                  0.0   \n",
       "\n",
       "   Visual and Performing Arts  Health Professions and Related Programs  \\\n",
       "0                      0.0237                                      0.0   \n",
       "\n",
       "   Business, Management, Marketing, and Related Support Services  History  \n",
       "0                                             0.1578                  0.0  \n",
       "\n",
       "[1 rows x 39 columns]"
      ]
     },
     "execution_count": 78,
     "metadata": {},
     "output_type": "execute_result"
    }
   ],
   "source": [
    "df = pd.read_csv('MERGED2018_19_pp.csv', encoding='utf-8', low_memory=False)\n",
    "\n",
    "new_column_names = { row['VARIABLE NAME']: row['LABEL'] for index, row in deg_cols.iterrows() }\n",
    "df = df[['UNITID',*deg_cols['VARIABLE NAME'].to_list()]].rename(columns={'UNITID': 'college_id', 'INSTNM': 'name', **new_column_names})\n",
    "\n",
    "print(df.shape)\n",
    "df.head(1)"
   ]
  },
  {
   "cell_type": "code",
   "execution_count": 79,
   "metadata": {},
   "outputs": [],
   "source": [
    "college_majors = pd.DataFrame((df.set_index(['college_id'])\n",
    "     .rename_axis('major', axis=1)\n",
    "     .stack())).reset_index()"
   ]
  },
  {
   "cell_type": "code",
   "execution_count": 80,
   "metadata": {},
   "outputs": [
    {
     "data": {
      "text/plain": [
       "(229368, 3)"
      ]
     },
     "execution_count": 80,
     "metadata": {},
     "output_type": "execute_result"
    }
   ],
   "source": [
    "college_majors.shape"
   ]
  },
  {
   "cell_type": "code",
   "execution_count": 81,
   "metadata": {
    "scrolled": true
   },
   "outputs": [
    {
     "data": {
      "text/plain": [
       "(38, 3)"
      ]
     },
     "execution_count": 81,
     "metadata": {},
     "output_type": "execute_result"
    }
   ],
   "source": [
    "college_majors[(college_majors['college_id']==100654)].shape"
   ]
  },
  {
   "cell_type": "code",
   "execution_count": 82,
   "metadata": {},
   "outputs": [
    {
     "data": {
      "text/plain": [
       "(21, 3)"
      ]
     },
     "execution_count": 82,
     "metadata": {},
     "output_type": "execute_result"
    }
   ],
   "source": [
    "college_majors[(college_majors['college_id']==100654)&(college_majors[0] > 0)].shape"
   ]
  },
  {
   "cell_type": "code",
   "execution_count": 83,
   "metadata": {},
   "outputs": [
    {
     "data": {
      "text/plain": [
       "(49651, 2)"
      ]
     },
     "execution_count": 83,
     "metadata": {},
     "output_type": "execute_result"
    }
   ],
   "source": [
    "college_majors[college_majors[0] > 0].iloc[:,0:2].shape"
   ]
  },
  {
   "cell_type": "code",
   "execution_count": 84,
   "metadata": {},
   "outputs": [],
   "source": [
    "college_majors = college_majors[college_majors[0] > 0].iloc[:,0:2]"
   ]
  },
  {
   "cell_type": "code",
   "execution_count": 103,
   "metadata": {},
   "outputs": [],
   "source": [
    "# store list of scorecard degrees in CSV file\n",
    "college_majors.groupby('major')[['major']].nunique().rename(columns={'major': 'count'}).reset_index()[['major']].to_csv('scorecard_majors.csv', sep=',', encoding='utf-8', mode='w', index=False)"
   ]
  },
  {
   "cell_type": "code",
   "execution_count": 85,
   "metadata": {
    "scrolled": true
   },
   "outputs": [
    {
     "data": {
      "text/html": [
       "<div>\n",
       "<style scoped>\n",
       "    .dataframe tbody tr th:only-of-type {\n",
       "        vertical-align: middle;\n",
       "    }\n",
       "\n",
       "    .dataframe tbody tr th {\n",
       "        vertical-align: top;\n",
       "    }\n",
       "\n",
       "    .dataframe thead th {\n",
       "        text-align: right;\n",
       "    }\n",
       "</style>\n",
       "<table border=\"1\" class=\"dataframe\">\n",
       "  <thead>\n",
       "    <tr style=\"text-align: right;\">\n",
       "      <th></th>\n",
       "      <th>college_id</th>\n",
       "      <th>major</th>\n",
       "    </tr>\n",
       "  </thead>\n",
       "  <tbody>\n",
       "    <tr>\n",
       "      <th>0</th>\n",
       "      <td>100654</td>\n",
       "      <td>Agriculture, Agriculture Operations, and Relat...</td>\n",
       "    </tr>\n",
       "    <tr>\n",
       "      <th>1</th>\n",
       "      <td>100654</td>\n",
       "      <td>Natural Resources and Conservation</td>\n",
       "    </tr>\n",
       "  </tbody>\n",
       "</table>\n",
       "</div>"
      ],
      "text/plain": [
       "   college_id                                              major\n",
       "0      100654  Agriculture, Agriculture Operations, and Relat...\n",
       "1      100654                 Natural Resources and Conservation"
      ]
     },
     "execution_count": 85,
     "metadata": {},
     "output_type": "execute_result"
    }
   ],
   "source": [
    "college_majors.head(2)"
   ]
  },
  {
   "cell_type": "code",
   "execution_count": 74,
   "metadata": {},
   "outputs": [],
   "source": [
    "degrees = pd.read_csv('../kaggle/degrees-that-pay-back.csv', encoding='utf-8', low_memory=False)\n",
    "degrees = degrees[['Undergraduate Major']].rename(columns={'Undergraduate Major': 'major'})"
   ]
  },
  {
   "cell_type": "code",
   "execution_count": 105,
   "metadata": {},
   "outputs": [
    {
     "name": "stdout",
     "output_type": "stream",
     "text": [
      "(50, 1)\n"
     ]
    },
    {
     "data": {
      "text/html": [
       "<div>\n",
       "<style scoped>\n",
       "    .dataframe tbody tr th:only-of-type {\n",
       "        vertical-align: middle;\n",
       "    }\n",
       "\n",
       "    .dataframe tbody tr th {\n",
       "        vertical-align: top;\n",
       "    }\n",
       "\n",
       "    .dataframe thead th {\n",
       "        text-align: right;\n",
       "    }\n",
       "</style>\n",
       "<table border=\"1\" class=\"dataframe\">\n",
       "  <thead>\n",
       "    <tr style=\"text-align: right;\">\n",
       "      <th></th>\n",
       "      <th>major</th>\n",
       "    </tr>\n",
       "  </thead>\n",
       "  <tbody>\n",
       "    <tr>\n",
       "      <th>0</th>\n",
       "      <td>Accounting</td>\n",
       "    </tr>\n",
       "    <tr>\n",
       "      <th>1</th>\n",
       "      <td>Aerospace Engineering</td>\n",
       "    </tr>\n",
       "  </tbody>\n",
       "</table>\n",
       "</div>"
      ],
      "text/plain": [
       "                   major\n",
       "0             Accounting\n",
       "1  Aerospace Engineering"
      ]
     },
     "execution_count": 105,
     "metadata": {},
     "output_type": "execute_result"
    }
   ],
   "source": [
    "print(degrees.shape)\n",
    "degrees.head(2)"
   ]
  },
  {
   "cell_type": "code",
   "execution_count": 106,
   "metadata": {},
   "outputs": [],
   "source": [
    "degrees.groupby('major')[['major']].nunique().rename(columns={'major': 'count'}).reset_index()[['major']].to_csv('kaggle_majors.csv', sep=',', encoding='utf-8', mode='w', index=False)"
   ]
  },
  {
   "cell_type": "code",
   "execution_count": null,
   "metadata": {},
   "outputs": [],
   "source": [
    "for index, row in college_majors.iterrows():\n",
    "    for major in degrees.major.to_list():\n",
    "        if(major in row.major):\n",
    "            print(row.college_id)\n",
    "    "
   ]
  },
  {
   "cell_type": "code",
   "execution_count": 92,
   "metadata": {},
   "outputs": [
    {
     "name": "stdout",
     "output_type": "stream",
     "text": [
      "False\n",
      "False\n",
      "False\n",
      "False\n",
      "False\n",
      "False\n",
      "False\n",
      "False\n",
      "False\n",
      "False\n",
      "False\n",
      "False\n",
      "False\n",
      "False\n",
      "False\n",
      "False\n",
      "False\n",
      "False\n",
      "False\n",
      "False\n",
      "False\n",
      "False\n",
      "False\n",
      "False\n",
      "False\n",
      "False\n",
      "False\n",
      "False\n",
      "False\n",
      "False\n",
      "False\n",
      "False\n",
      "False\n",
      "False\n",
      "False\n",
      "False\n",
      "False\n",
      "False\n",
      "False\n",
      "False\n",
      "False\n",
      "False\n",
      "False\n",
      "False\n",
      "False\n",
      "False\n",
      "False\n",
      "False\n",
      "False\n",
      "False\n"
     ]
    }
   ],
   "source": [
    "counter = 0\n",
    "for index, row in college_majors.iterrows():\n",
    "    counter += 1\n",
    "    if counter <=50:\n",
    "        print('Accounting' in row.major)\n",
    "    else:\n",
    "        break"
   ]
  }
 ],
 "metadata": {
  "kernelspec": {
   "display_name": "Python 3",
   "language": "python",
   "name": "python3"
  },
  "language_info": {
   "codemirror_mode": {
    "name": "ipython",
    "version": 3
   },
   "file_extension": ".py",
   "mimetype": "text/x-python",
   "name": "python",
   "nbconvert_exporter": "python",
   "pygments_lexer": "ipython3",
   "version": "3.7.6"
  }
 },
 "nbformat": 4,
 "nbformat_minor": 4
}
