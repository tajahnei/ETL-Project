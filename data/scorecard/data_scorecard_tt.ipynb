{
 "cells": [
  {
   "cell_type": "code",
   "execution_count": 2,
   "metadata": {},
   "outputs": [],
   "source": [
    "# import dependencies\n",
    "import os\n",
    "import numpy as np\n",
    "import pandas as pd"
   ]
  },
  {
   "cell_type": "code",
   "execution_count": 3,
   "metadata": {},
   "outputs": [],
   "source": [
    "# read the datadictionary on the third sheet from excel file\n",
    "datadict = pd.read_excel('CollegeScorecardDataDictionary.xlsx', sheet_name=3)"
   ]
  },
  {
   "cell_type": "code",
   "execution_count": 4,
   "metadata": {},
   "outputs": [],
   "source": [
    "# retrieve datadictionary information for degrees\n",
    "deg_cols = datadict[(datadict['dev-category']=='academics') &  (datadict['VARIABLE NAME'].str.contains('PCIP'))]"
   ]
  },
  {
   "cell_type": "code",
   "execution_count": 5,
   "metadata": {},
   "outputs": [
    {
     "data": {
      "text/plain": [
       "\"\\nHIGHDEG\\n\\t0\\tNon-degree-granting\\n\\t1\\tCertificate degree\\n\\t2\\tAssociate degree\\n\\t3\\tBachelor's degree\\n\\t4\\tGraduate degree\\n\\nICLEVEL\\n\\t1\\t4-year\\n\\t2\\t2-year\\n\\t3\\tLess-than-2-year\\n\\nREGION\\n\\t0\\tU.S. Service Schools\\n\\t1\\tNew England (CT, ME, MA, NH, RI, VT)\\n\\t2\\tMid East (DE, DC, MD, NJ, NY, PA)\\n\\t3\\tGreat Lakes (IL, IN, MI, OH, WI)\\n\\t4\\tPlains (IA, KS, MN, MO, NE, ND, SD)\\n\\t5\\tSoutheast (AL, AR, FL, GA, KY, LA, MS, NC, SC, TN, VA, WV)\\n\\t6\\tSouthwest (AZ, NM, OK, TX)\\n\\t7\\tRocky Mountains (CO, ID, MT, UT, WY)\\n\\t8\\tFar West (AK, CA, HI, NV, OR, WA)\\n\\t9\\tOutlying Areas (AS, FM, GU, MH, MP, PR, PW, VI)\\n\\nDISTANCEONLY\\n\\t0\\tNot distance-education only\\n\\t1\\tDistance-education only\\n    \\nCURROPER\\n\\t0\\tNot currently certified as an operating institution\\n\\t1\\tCurrently certified as operating\\n    \\nSCHTYPE\\n\\t1\\tPublic            \\n\\t2\\tPrivate, Nonprofit\\n\\t3\\tProprietary       \\n    \\n    \\n\""
      ]
     },
     "execution_count": 5,
     "metadata": {},
     "output_type": "execute_result"
    }
   ],
   "source": [
    "\"\"\"\n",
    "HIGHDEG\n",
    "\t0\tNon-degree-granting\n",
    "\t1\tCertificate degree\n",
    "\t2\tAssociate degree\n",
    "\t3\tBachelor's degree\n",
    "\t4\tGraduate degree\n",
    "\n",
    "ICLEVEL\n",
    "\t1\t4-year\n",
    "\t2\t2-year\n",
    "\t3\tLess-than-2-year\n",
    "\n",
    "REGION\n",
    "\t0\tU.S. Service Schools\n",
    "\t1\tNew England (CT, ME, MA, NH, RI, VT)\n",
    "\t2\tMid East (DE, DC, MD, NJ, NY, PA)\n",
    "\t3\tGreat Lakes (IL, IN, MI, OH, WI)\n",
    "\t4\tPlains (IA, KS, MN, MO, NE, ND, SD)\n",
    "\t5\tSoutheast (AL, AR, FL, GA, KY, LA, MS, NC, SC, TN, VA, WV)\n",
    "\t6\tSouthwest (AZ, NM, OK, TX)\n",
    "\t7\tRocky Mountains (CO, ID, MT, UT, WY)\n",
    "\t8\tFar West (AK, CA, HI, NV, OR, WA)\n",
    "\t9\tOutlying Areas (AS, FM, GU, MH, MP, PR, PW, VI)\n",
    "\n",
    "DISTANCEONLY\n",
    "\t0\tNot distance-education only\n",
    "\t1\tDistance-education only\n",
    "    \n",
    "CURROPER\n",
    "\t0\tNot currently certified as an operating institution\n",
    "\t1\tCurrently certified as operating\n",
    "    \n",
    "SCHTYPE\n",
    "\t1\tPublic            \n",
    "\t2\tPrivate, Nonprofit\n",
    "\t3\tProprietary       \n",
    "    \n",
    "    \n",
    "\"\"\""
   ]
  },
  {
   "cell_type": "code",
   "execution_count": 7,
   "metadata": {
    "scrolled": true
   },
   "outputs": [
    {
     "name": "stdout",
     "output_type": "stream",
     "text": [
      "(13918, 52)\n",
      "(6127, 52)\n"
     ]
    },
    {
     "data": {
      "text/html": [
       "<div>\n",
       "<style scoped>\n",
       "    .dataframe tbody tr th:only-of-type {\n",
       "        vertical-align: middle;\n",
       "    }\n",
       "\n",
       "    .dataframe tbody tr th {\n",
       "        vertical-align: top;\n",
       "    }\n",
       "\n",
       "    .dataframe thead th {\n",
       "        text-align: right;\n",
       "    }\n",
       "</style>\n",
       "<table border=\"1\" class=\"dataframe\">\n",
       "  <thead>\n",
       "    <tr style=\"text-align: right;\">\n",
       "      <th></th>\n",
       "      <th>UNITID</th>\n",
       "      <th>INSTNM</th>\n",
       "      <th>CITY</th>\n",
       "      <th>STABBR</th>\n",
       "      <th>ZIP</th>\n",
       "      <th>REGION</th>\n",
       "      <th>LATITUDE</th>\n",
       "      <th>LONGITUDE</th>\n",
       "      <th>SCHTYPE</th>\n",
       "      <th>HIGHDEG</th>\n",
       "      <th>...</th>\n",
       "      <th>Social Sciences</th>\n",
       "      <th>Construction Trades</th>\n",
       "      <th>Mechanic and Repair Technologies/Technicians</th>\n",
       "      <th>Precision Production</th>\n",
       "      <th>Transportation and Materials Moving</th>\n",
       "      <th>Visual and Performing Arts</th>\n",
       "      <th>Health Professions and Related Programs</th>\n",
       "      <th>Business, Management, Marketing, and Related Support Services</th>\n",
       "      <th>History</th>\n",
       "      <th>YEAR</th>\n",
       "    </tr>\n",
       "  </thead>\n",
       "  <tbody>\n",
       "    <tr>\n",
       "      <th>0</th>\n",
       "      <td>100654</td>\n",
       "      <td>Alabama A &amp; M University</td>\n",
       "      <td>Normal</td>\n",
       "      <td>AL</td>\n",
       "      <td>35762</td>\n",
       "      <td>5</td>\n",
       "      <td>34.783368</td>\n",
       "      <td>-86.568502</td>\n",
       "      <td>1.0</td>\n",
       "      <td>4</td>\n",
       "      <td>...</td>\n",
       "      <td>0.0355</td>\n",
       "      <td>0.0</td>\n",
       "      <td>0.0</td>\n",
       "      <td>0.0</td>\n",
       "      <td>0.0</td>\n",
       "      <td>0.0237</td>\n",
       "      <td>0.0000</td>\n",
       "      <td>0.1578</td>\n",
       "      <td>0.00</td>\n",
       "      <td>201819</td>\n",
       "    </tr>\n",
       "    <tr>\n",
       "      <th>1</th>\n",
       "      <td>100663</td>\n",
       "      <td>University of Alabama at Birmingham</td>\n",
       "      <td>Birmingham</td>\n",
       "      <td>AL</td>\n",
       "      <td>35294</td>\n",
       "      <td>5</td>\n",
       "      <td>33.505697</td>\n",
       "      <td>-86.799345</td>\n",
       "      <td>1.0</td>\n",
       "      <td>4</td>\n",
       "      <td>...</td>\n",
       "      <td>0.0315</td>\n",
       "      <td>0.0</td>\n",
       "      <td>0.0</td>\n",
       "      <td>0.0</td>\n",
       "      <td>0.0</td>\n",
       "      <td>0.0339</td>\n",
       "      <td>0.2255</td>\n",
       "      <td>0.1908</td>\n",
       "      <td>0.01</td>\n",
       "      <td>201819</td>\n",
       "    </tr>\n",
       "  </tbody>\n",
       "</table>\n",
       "<p>2 rows × 52 columns</p>\n",
       "</div>"
      ],
      "text/plain": [
       "   UNITID                               INSTNM        CITY STABBR    ZIP  \\\n",
       "0  100654             Alabama A & M University      Normal     AL  35762   \n",
       "1  100663  University of Alabama at Birmingham  Birmingham     AL  35294   \n",
       "\n",
       "   REGION   LATITUDE  LONGITUDE  SCHTYPE  HIGHDEG  ...  Social Sciences  \\\n",
       "0       5  34.783368 -86.568502      1.0        4  ...           0.0355   \n",
       "1       5  33.505697 -86.799345      1.0        4  ...           0.0315   \n",
       "\n",
       "   Construction Trades  Mechanic and Repair Technologies/Technicians  \\\n",
       "0                  0.0                                           0.0   \n",
       "1                  0.0                                           0.0   \n",
       "\n",
       "   Precision Production  Transportation and Materials Moving  \\\n",
       "0                   0.0                                  0.0   \n",
       "1                   0.0                                  0.0   \n",
       "\n",
       "   Visual and Performing Arts  Health Professions and Related Programs  \\\n",
       "0                      0.0237                                   0.0000   \n",
       "1                      0.0339                                   0.2255   \n",
       "\n",
       "   Business, Management, Marketing, and Related Support Services  History  \\\n",
       "0                                             0.1578                 0.00   \n",
       "1                                             0.1908                 0.01   \n",
       "\n",
       "     YEAR  \n",
       "0  201819  \n",
       "1  201819  \n",
       "\n",
       "[2 rows x 52 columns]"
      ]
     },
     "execution_count": 7,
     "metadata": {},
     "output_type": "execute_result"
    }
   ],
   "source": [
    "# read all CSV files into a pandas dataframe in which the year is the key for the dataframe\n",
    "file_path = '.'\n",
    "scorecard_df = pd.DataFrame()\n",
    "for filename in os.listdir(file_path):\n",
    "    if 'MERGED' in filename:\n",
    "        year = filename[6:][:7]\n",
    "        df = pd.read_csv(os.path.join(file_path, filename), encoding='utf-8', low_memory=False)\n",
    "        df = df[['UNITID','INSTNM',\\\n",
    "                 'CITY','STABBR','ZIP','REGION','LATITUDE','LONGITUDE',\\\n",
    "                 'SCHTYPE','HIGHDEG','ICLEVEL',\\\n",
    "                 'DISTANCEONLY','CURROPER',\\\n",
    "                  *deg_cols['VARIABLE NAME'].to_list()\\\n",
    "                 ]]\n",
    "        df['YEAR'] = int(year)\n",
    "        try:\n",
    "            scorecard_df = scorecard_df.append(df, ignore_index=True)\n",
    "        except:\n",
    "            print('append failed')\n",
    "scorecard_df = scorecard_df.rename(columns={ row[0]: row[1] for index, row in deg_cols[['VARIABLE NAME','LABEL']].iterrows() })\n",
    "scorecard_df['ZIP'] = scorecard_df['ZIP'].str[:5]\n",
    "print(scorecard_df.shape)\n",
    "cond1 = (scorecard_df['CURROPER'] == 1)           # select currently operating schools\n",
    "#scorecard_df = scorecard_df[cond1]\n",
    "cond2 = (scorecard_df['HIGHDEG'] > 0)             # select degree granting schools only\n",
    "scorecard_df = scorecard_df[cond1 & cond2] \n",
    "\n",
    "print(scorecard_df.shape)\n",
    "#print(scorecard_df.dtypes)\n",
    "scorecard_df.head(2)"
   ]
  },
  {
   "cell_type": "code",
   "execution_count": null,
   "metadata": {},
   "outputs": [],
   "source": [
    "metro_df = pd.DataFrame(columns=['ZIP','CBSA Code','CBSA Title','Metro','CSA Code','CSA Title'])"
   ]
  },
  {
   "cell_type": "code",
   "execution_count": null,
   "metadata": {},
   "outputs": [],
   "source": [
    "areas = {\n",
    "    'Atlanta': 'Atlanta',\n",
    "    'Boston': 'Boston',\n",
    "    'Chicago': 'Chicago',\n",
    "    'Houston': 'Houston',\n",
    "    'Los Angeles': 'Los Angeles',\n",
    "    'New York': 'New York City',\n",
    "    'Philadelphia-Camden': 'Philadelphia',\n",
    "    'San Francisco': 'San Francisco',\n",
    "    'Seattle': 'Seattle',\n",
    "    'DC': 'Washington DC'\n",
    "}"
   ]
  },
  {
   "cell_type": "code",
   "execution_count": null,
   "metadata": {},
   "outputs": [],
   "source": [
    "for area, orig in areas.items():\n",
    "    df = merged_df[merged_df['CBSA Title'].str.contains(area)].groupby(['ZIP','CBSA Code','CBSA Title','CSA Code','CSA Title']).count()\n",
    "    df.reset_index(inplace=True)\n",
    "    df['Metro'] = orig\n",
    "    metro_df = metro_df.append(df, ignore_index=True)\n",
    "metro_df = metro_df.astype({ 'CBSA Code': int, 'CSA Code': int })\n",
    "metro_df = metro_df.drop_duplicates()"
   ]
  },
  {
   "cell_type": "code",
   "execution_count": null,
   "metadata": {},
   "outputs": [],
   "source": [
    "print(metro_df.shape)\n",
    "print(metro_df.dtypes)\n",
    "metro_df.head(2)"
   ]
  },
  {
   "cell_type": "code",
   "execution_count": null,
   "metadata": {},
   "outputs": [],
   "source": [
    "merged_df[(merged_df['CBSA Title'].isna()==True)&(merged_df['CSA Title'].isna()==True)]#.value_counts()"
   ]
  },
  {
   "cell_type": "code",
   "execution_count": null,
   "metadata": {},
   "outputs": [],
   "source": [
    "kaggle_files = [ file for file in os.listdir('kaggle') if file.endswith('.csv') ]"
   ]
  },
  {
   "cell_type": "code",
   "execution_count": null,
   "metadata": {},
   "outputs": [],
   "source": [
    "kaggle_dfs = { filename[:-4]: pd.read_csv(os.path.join(os.getcwd(), 'kaggle', filename), encoding='utf-8', low_memory=False) for filename in kaggle_files }"
   ]
  },
  {
   "cell_type": "code",
   "execution_count": null,
   "metadata": {},
   "outputs": [],
   "source": [
    "kaggle_dfs.keys()"
   ]
  },
  {
   "cell_type": "code",
   "execution_count": null,
   "metadata": {},
   "outputs": [],
   "source": [
    "region_test = kaggle_dfs['salaries-by-region-id'][kaggle_dfs['salaries-by-region-id']['UNITID'].isna() == False]\n",
    "region_test.reset_index(drop=True, inplace=True)\n",
    "region_test = region_test.astype({'UNITID': int})"
   ]
  },
  {
   "cell_type": "code",
   "execution_count": null,
   "metadata": {
    "scrolled": false
   },
   "outputs": [],
   "source": [
    "#region_test['INSTNM'] = region_test.progress_apply(lambda x: str(x['School Name'].split(' (')[0]), axis=1)\n",
    "#region_test['INSTNM'] = region_test.progress_apply(lambda x: str(x['School Name'].replace(',','-')), axis=1)"
   ]
  },
  {
   "cell_type": "code",
   "execution_count": null,
   "metadata": {},
   "outputs": [],
   "source": [
    "region_test.head()"
   ]
  },
  {
   "cell_type": "code",
   "execution_count": null,
   "metadata": {
    "scrolled": true
   },
   "outputs": [],
   "source": [
    "region_test.dtypes"
   ]
  },
  {
   "cell_type": "code",
   "execution_count": null,
   "metadata": {},
   "outputs": [],
   "source": [
    "inst_test = test.merge(metro_df, on='ZIP', how='inner')"
   ]
  },
  {
   "cell_type": "code",
   "execution_count": null,
   "metadata": {},
   "outputs": [],
   "source": [
    "print(inst_test.shape)\n",
    "#print(inst_test.dtypes)\n",
    "inst_test.head(2)"
   ]
  },
  {
   "cell_type": "code",
   "execution_count": null,
   "metadata": {},
   "outputs": [],
   "source": [
    "inst_test[(inst_test['CBSA Title'].str.contains('New York'))&(inst_test['CITY'].str.contains('Elizabeth'))]"
   ]
  },
  {
   "cell_type": "code",
   "execution_count": 8,
   "metadata": {},
   "outputs": [],
   "source": [
    "zips_df = pd.read_csv('../cbsa/cbsa_zip_list.csv', encoding='utf-8')"
   ]
  },
  {
   "cell_type": "code",
   "execution_count": 9,
   "metadata": {},
   "outputs": [],
   "source": [
    "zips_df = pd.read_excel('../cbsa/ZIP_CBSA_122019.xlsx', sheet_name=0, converters={'ZIP': str})[['ZIP','CBSA']]\n",
    "zips_df = zips_df.rename(columns={'CBSA': 'CBSA Code'})"
   ]
  },
  {
   "cell_type": "code",
   "execution_count": 10,
   "metadata": {},
   "outputs": [],
   "source": [
    "zip_df = pd.read_excel('../cbsa/ZIP_CBSA_122017.xlsx', sheet_name=0, converters={'zip': str})[['zip','cbsa']]\n",
    "zip_df = zip_df.rename(columns={'zip': 'ZIP', 'cbsa': 'CBSA Code'})\n",
    "zips_df = zips_df.append(zip_df)\n",
    "zips_df = zips_df.drop_duplicates()"
   ]
  },
  {
   "cell_type": "code",
   "execution_count": 11,
   "metadata": {},
   "outputs": [
    {
     "name": "stdout",
     "output_type": "stream",
     "text": [
      "(52426, 2)\n",
      "ZIP          object\n",
      "CBSA Code     int64\n",
      "dtype: object\n"
     ]
    },
    {
     "data": {
      "text/html": [
       "<div>\n",
       "<style scoped>\n",
       "    .dataframe tbody tr th:only-of-type {\n",
       "        vertical-align: middle;\n",
       "    }\n",
       "\n",
       "    .dataframe tbody tr th {\n",
       "        vertical-align: top;\n",
       "    }\n",
       "\n",
       "    .dataframe thead th {\n",
       "        text-align: right;\n",
       "    }\n",
       "</style>\n",
       "<table border=\"1\" class=\"dataframe\">\n",
       "  <thead>\n",
       "    <tr style=\"text-align: right;\">\n",
       "      <th></th>\n",
       "      <th>ZIP</th>\n",
       "      <th>CBSA Code</th>\n",
       "    </tr>\n",
       "  </thead>\n",
       "  <tbody>\n",
       "    <tr>\n",
       "      <th>0</th>\n",
       "      <td>00501</td>\n",
       "      <td>35620</td>\n",
       "    </tr>\n",
       "    <tr>\n",
       "      <th>1</th>\n",
       "      <td>00601</td>\n",
       "      <td>38660</td>\n",
       "    </tr>\n",
       "  </tbody>\n",
       "</table>\n",
       "</div>"
      ],
      "text/plain": [
       "     ZIP  CBSA Code\n",
       "0  00501      35620\n",
       "1  00601      38660"
      ]
     },
     "execution_count": 11,
     "metadata": {},
     "output_type": "execute_result"
    }
   ],
   "source": [
    "print(zips_df.shape)\n",
    "print(zips_df.dtypes)\n",
    "zips_df.head(2)\n"
   ]
  },
  {
   "cell_type": "code",
   "execution_count": null,
   "metadata": {},
   "outputs": [],
   "source": [
    "cbsa_df = pd.read_excel('../cbsa/2018_cbsa.xls', sheet_name=0, skiprows=2)\n",
    "cbsa_df = cbsa_df[['CBSA Code', 'CBSA Title', 'CSA Code', 'CSA Title']].dropna(how='all')\n",
    "cbsa_df = cbsa_df.iloc[:-3]\n",
    "cbsa_df = cbsa_df.drop_duplicates()\n",
    "cbsa_df = cbsa_df.astype({ 'CBSA Code': int })"
   ]
  },
  {
   "cell_type": "code",
   "execution_count": null,
   "metadata": {},
   "outputs": [],
   "source": [
    "cbs_df = pd.read_excel('../cbsa/2017_cbsa.xls', sheet_name=0, skiprows=2)\n",
    "cbs_df = cbs_df[['CBSA Code', 'CBSA Title', 'CSA Code', 'CSA Title']].dropna(how='all')\n",
    "cbs_df = cbs_df.iloc[:-3]\n",
    "cbs_df = cbs_df.drop_duplicates()\n",
    "cbs_df = cbs_df.astype({ 'CBSA Code': int })\n",
    "cbsa_df = cbsa_df.append(cbs_df)\n",
    "cbsa_df = cbsa_df.drop_duplicates()"
   ]
  },
  {
   "cell_type": "code",
   "execution_count": null,
   "metadata": {
    "scrolled": true
   },
   "outputs": [],
   "source": [
    "print(cbsa_df.shape)\n",
    "print(cbsa_df.dtypes)\n",
    "cbsa_df.head(2)"
   ]
  },
  {
   "cell_type": "code",
   "execution_count": null,
   "metadata": {},
   "outputs": [],
   "source": [
    "zips_df.merge(cbsa_df, on='CBSA Code', how='left')[zips_df.merge(cbsa_df, on='CBSA Code', how='left')['ZIP']=='06511']"
   ]
  },
  {
   "cell_type": "code",
   "execution_count": null,
   "metadata": {},
   "outputs": [],
   "source": [
    "merged_df = zips_df.merge(cbsa_df, on='CBSA Code', how='left')\n",
    "merged_df = merged_df.drop_duplicates()\n",
    "#.drop_duplicates(subset=None,keep='first',inplace=False)\n",
    "merged_df = merged_df[merged_df['CBSA Title'].isna() == False]"
   ]
  },
  {
   "cell_type": "code",
   "execution_count": null,
   "metadata": {},
   "outputs": [],
   "source": [
    "print(merged_df.shape)\n",
    "print(merged_df.dtypes)\n",
    "merged_df.head(2)"
   ]
  }
 ],
 "metadata": {
  "kernelspec": {
   "display_name": "Python 3",
   "language": "python",
   "name": "python3"
  },
  "language_info": {
   "codemirror_mode": {
    "name": "ipython",
    "version": 3
   },
   "file_extension": ".py",
   "mimetype": "text/x-python",
   "name": "python",
   "nbconvert_exporter": "python",
   "pygments_lexer": "ipython3",
   "version": "3.7.6"
  }
 },
 "nbformat": 4,
 "nbformat_minor": 4
}
