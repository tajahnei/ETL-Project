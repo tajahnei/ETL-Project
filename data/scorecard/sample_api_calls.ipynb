{
 "cells": [
  {
   "cell_type": "code",
   "execution_count": 3,
   "metadata": {},
   "outputs": [
    {
     "ename": "SyntaxError",
     "evalue": "invalid syntax (<ipython-input-3-c0378e831d61>, line 2)",
     "output_type": "error",
     "traceback": [
      "\u001b[0;36m  File \u001b[0;32m\"<ipython-input-3-c0378e831d61>\"\u001b[0;36m, line \u001b[0;32m2\u001b[0m\n\u001b[0;31m    import '../config'\u001b[0m\n\u001b[0m                     ^\u001b[0m\n\u001b[0;31mSyntaxError\u001b[0m\u001b[0;31m:\u001b[0m invalid syntax\n"
     ]
    }
   ],
   "source": [
    "import requests\n",
    "import config\n",
    "apiKey = f'api_key={config.apiKey}'\n",
    "apiUrl = 'https://api.data.gov/ed/collegescorecard/v1/schools.json?'"
   ]
  },
  {
   "cell_type": "code",
   "execution_count": null,
   "metadata": {},
   "outputs": [],
   "source": [
    "url = f'{apiUrl}school.degrees_awarded.predominant=2,3&fields=id,school.name,2012.student.size,2012.earnings.10_yrs_after_entry.working_not_enrolled.overall,2012.earnings.10_yrs_after_entry.working_not_enrolled.mean_earnings,2012.earnings.9_yrs_after_entry.working_not_enrolled.overall,2012.earnings.9_yrs_after_entry.working_not_enrolled.mean_earnings,2012.earnings.8_yrs_after_entry.working_not_enrolled.overall,2012.earnings.8_yrs_after_entry.working_not_enrolled.mean_earnings,2012.earnings.7_yrs_after_entry.working_not_enrolled.overall,2012.earnings.7_yrs_after_entry.working_not_enrolled.mean_earnings,2012.earnings.6_yrs_after_entry.working_not_enrolled.overall,2012.earnings.6_yrs_after_entry.working_not_enrolled.mean_earnings&api_key={config.apiKey}'"
   ]
  },
  {
   "cell_type": "code",
   "execution_count": null,
   "metadata": {},
   "outputs": [],
   "source": [
    "# found api difficult to query because if any field returns not data then no data is returned\n",
    "response = requests.get(url).json()"
   ]
  },
  {
   "cell_type": "code",
   "execution_count": null,
   "metadata": {},
   "outputs": [],
   "source": [
    "# fields to query the data.gov open data set\n",
    "\"\"\"\n",
    "latest.earnings.10_yrs_after_entry.working_not_enrolled.overall,\\\n",
    "latest.earnings.10_yrs_after_entry.working_not_enrolled.mean_earnings,\\\n",
    "latest.earnings.9_yrs_after_entry.working_not_enrolled.overall,\\\n",
    "latest.earnings.9_yrs_after_entry.working_not_enrolled.mean_earnings,\\\n",
    "latest.earnings.8_yrs_after_entry.working_not_enrolled.overall,\\\n",
    "latest.earnings.8_yrs_after_entry.working_not_enrolled.mean_earnings,\\\n",
    "latest.earnings.7_yrs_after_entry.working_not_enrolled.overall,\\\n",
    "latest.earnings.7_yrs_after_entry.working_not_enrolled.mean_earnings,\\\n",
    "latest.earnings.6_yrs_after_entry.working_not_enrolled.overall,\\\n",
    "latest.earnings.6_yrs_after_entry.working_not_enrolled.mean_earnings,\\\n",
    "\"\"\""
   ]
  }
 ],
 "metadata": {
  "kernelspec": {
   "display_name": "Python 3",
   "language": "python",
   "name": "python3"
  },
  "language_info": {
   "codemirror_mode": {
    "name": "ipython",
    "version": 3
   },
   "file_extension": ".py",
   "mimetype": "text/x-python",
   "name": "python",
   "nbconvert_exporter": "python",
   "pygments_lexer": "ipython3",
   "version": "3.7.6"
  }
 },
 "nbformat": 4,
 "nbformat_minor": 4
}
